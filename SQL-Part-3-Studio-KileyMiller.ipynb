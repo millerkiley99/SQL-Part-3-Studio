{
    "metadata": {
        "kernelspec": {
            "name": "SQL",
            "display_name": "SQL",
            "language": "sql"
        },
        "language_info": {
            "name": "sql",
            "version": ""
        },
        "extensions": {
            "azuredatastudio": {
                "version": 1,
                "views": []
            }
        }
    },
    "nbformat_minor": 2,
    "nbformat": 4,
    "cells": [
        {
            "cell_type": "markdown",
            "source": [
                "# SQL Part 3 Studio\n",
                "\n",
                "### Let's practice your SQL quering skills!  For each question, work along in the notebook adding your query and answering the questions. \n",
                "\n",
                "### **DataSet**\n",
                "\n",
                "### <span style=\"font-size: 14px; font-family: -apple-system, BlinkMacSystemFont, sans-serif;\">We will be using the Goodbooks-10k dataset from the exercises in the prep work.&nbsp; Feel free reference your previous notebooks.</span>\n",
                "\n",
                "- The dataset can be found here: [goodbooks-10k](https://www.kaggle.com/zygmunt/goodbooks-10k)\n",
                "- You can access the **BooksDB** in the Launchcode server.\n",
                "\n",
                "### **Business Issue**\n",
                "\n",
                "You are an employee at a small independet bookstore and you have been tasked to increase sales.  You decide to use the BooksDB to find books and themes to highlight in fun promotions throughout each month / season.  We will be starting with March and then you will have a chance to explore another month of your choosing.  We want to come up with a list of events/ promotions to run each month.  If you are looking for ideas to include in your promotions:\n",
                "\n",
                "- [https://www.calendarr.com/united-states/calendar-2022/](https://www.calendarr.com/united-states/calendar-2022/)\n",
                "- [https://www.holidayinsights.com/moreholidays/](https://www.holidayinsights.com/moreholidays/)\n",
                "    - Click on a month and it will take you to a more detailed page"
            ],
            "metadata": {
                "azdata_cell_guid": "b9034d8a-b631-48bf-a895-1012a6ffa784"
            },
            "attachments": {}
        },
        {
            "cell_type": "markdown",
            "source": [
                "## Part 1:  March - Women's History Month, Dr Seuss Day(3/2), National Pie Day3/14, St Patrick's Day (3/17), Season - Spring"
            ],
            "metadata": {
                "azdata_cell_guid": "6e55eb1c-4a14-4076-90d2-95ed17a6309f"
            },
            "attachments": {}
        },
        {
            "cell_type": "markdown",
            "source": [
                "### **Event 1:** Women's History Month\n",
                "\n",
                "Goal: Highlight Popular Womans Authors based on ratings from the Good Reads DB.\n",
                "\n",
                "### **Write a query that returns tag\\_id, the number of times each tag\\_id is used and the tag\\_name.**  \n",
                "\n",
                "### Use the GROUP BY and HAVING clause to narrow your focus.\n",
                "\n",
                "Try multiple keywords, ie woman vs female (female ended up giving better results)"
            ],
            "metadata": {
                "azdata_cell_guid": "d220c097-e9cf-4edd-9abe-312d071217b7"
            },
            "attachments": {}
        },
        {
            "cell_type": "code",
            "source": [
                "SELECT TOP 5 t.tag_name, bt.tag_id, SUM(bt.count) AS total\n",
                "FROM BooksDB.dbo.book_tags AS bt\n",
                "FULL JOIN BooksDB.dbo.tags AS t\n",
                "ON bt.tag_id = t.tag_id\n",
                "GROUP BY t.tag_name, bt.tag_id\n",
                "HAVING t.tag_name LIKE '%female%'\n",
                "ORDER BY total DESC"
            ],
            "metadata": {
                "azdata_cell_guid": "e31b9d26-0386-44c7-828e-85f4f06f3ee6",
                "language": "sql"
            },
            "outputs": [
                {
                    "output_type": "display_data",
                    "data": {
                        "text/html": "(5 rows affected)"
                    },
                    "metadata": {}
                },
                {
                    "output_type": "display_data",
                    "data": {
                        "text/html": "Total execution time: 00:00:00.408"
                    },
                    "metadata": {}
                },
                {
                    "output_type": "execute_result",
                    "metadata": {},
                    "execution_count": 17,
                    "data": {
                        "application/vnd.dataresource+json": {
                            "schema": {
                                "fields": [
                                    {
                                        "name": "tag_name"
                                    },
                                    {
                                        "name": "tag_id"
                                    },
                                    {
                                        "name": "total"
                                    }
                                ]
                            },
                            "data": [
                                {
                                    "0": "female-author",
                                    "1": "11643",
                                    "2": "17999"
                                },
                                {
                                    "0": "female-authors",
                                    "1": "11644",
                                    "2": "13690"
                                },
                                {
                                    "0": "female-protagonist",
                                    "1": "11658",
                                    "2": "2554"
                                },
                                {
                                    "0": "female-detective",
                                    "1": "11646",
                                    "2": "302"
                                },
                                {
                                    "0": "female-pov",
                                    "1": "11656",
                                    "2": "155"
                                }
                            ]
                        },
                        "text/html": [
                            "<table>",
                            "<tr><th>tag_name</th><th>tag_id</th><th>total</th></tr>",
                            "<tr><td>female-author</td><td>11643</td><td>17999</td></tr>",
                            "<tr><td>female-authors</td><td>11644</td><td>13690</td></tr>",
                            "<tr><td>female-protagonist</td><td>11658</td><td>2554</td></tr>",
                            "<tr><td>female-detective</td><td>11646</td><td>302</td></tr>",
                            "<tr><td>female-pov</td><td>11656</td><td>155</td></tr>",
                            "</table>"
                        ]
                    }
                }
            ],
            "execution_count": 17
        },
        {
            "cell_type": "markdown",
            "source": [
                "### **Which keyword(s) and tag(s) would you like to explore more?**\n",
                "\n",
                "**doggies**"
            ],
            "metadata": {
                "azdata_cell_guid": "e9acd8b5-a62b-4ac0-bd07-19915b379ba6"
            },
            "attachments": {}
        },
        {
            "cell_type": "markdown",
            "source": [
                "### **Write a query to return authors, titles, ratings and** **selected tag(s)\\_id.**"
            ],
            "metadata": {
                "azdata_cell_guid": "59b84464-c0bc-4dac-9e02-0c803765b063"
            },
            "attachments": {}
        },
        {
            "cell_type": "code",
            "source": [
                "SELECT TOP 10 b.authors, b.title, b.average_rating, t.tag_id\n",
                "FROM BooksDB.dbo.books as b\n",
                "INNER JOIN BooksDB.dbo.book_tags as t\n",
                "ON b.book_id = t.goodreads_book_id\n",
                "WHERE tag_id = 11643\n",
                "ORDER BY tag_id, average_rating DESC"
            ],
            "metadata": {
                "azdata_cell_guid": "51ffeaaf-6dde-4906-95f3-eb8757babf27",
                "tags": [],
                "language": "sql"
            },
            "outputs": [
                {
                    "output_type": "display_data",
                    "data": {
                        "text/html": "(10 rows affected)"
                    },
                    "metadata": {}
                },
                {
                    "output_type": "display_data",
                    "data": {
                        "text/html": "Total execution time: 00:00:00.141"
                    },
                    "metadata": {}
                },
                {
                    "output_type": "execute_result",
                    "metadata": {},
                    "execution_count": 19,
                    "data": {
                        "application/vnd.dataresource+json": {
                            "schema": {
                                "fields": [
                                    {
                                        "name": "authors"
                                    },
                                    {
                                        "name": "title"
                                    },
                                    {
                                        "name": "average_rating"
                                    },
                                    {
                                        "name": "tag_id"
                                    }
                                ]
                            },
                            "data": [
                                {
                                    "0": "J.K. Rowling, Mary GrandPré",
                                    "1": "The Harry Potter Collection 1-4 (Harry Potter, #1-4)",
                                    "2": "4.66",
                                    "3": "11643"
                                },
                                {
                                    "0": "Bisco Hatori",
                                    "1": "Ouran High School Host Club, Vol. 15 (Ouran High School Host Club, #15)",
                                    "2": "4.54",
                                    "3": "11643"
                                },
                                {
                                    "0": "Robin Hobb",
                                    "1": "Fool's Quest  (The Fitz and The Fool, #2)",
                                    "2": "4.53",
                                    "3": "11643"
                                },
                                {
                                    "0": "Michelle Alexander",
                                    "1": "The New Jim Crow: Mass Incarceration in the Age of Colorblindness",
                                    "2": "4.49",
                                    "3": "11643"
                                },
                                {
                                    "0": "Chimamanda Ngozi Adichie",
                                    "1": "We Should All Be Feminists",
                                    "2": "4.47",
                                    "3": "11643"
                                },
                                {
                                    "0": "Julia Donaldson, Axel Scheffler",
                                    "1": "The Gruffalo",
                                    "2": "4.47",
                                    "3": "11643"
                                },
                                {
                                    "0": "J.K. Rowling, Mary GrandPré",
                                    "1": "Harry Potter and the Order of the Phoenix (Harry Potter, #5)",
                                    "2": "4.46",
                                    "3": "11643"
                                },
                                {
                                    "0": "Flannery O'Connor",
                                    "1": "The Complete Stories",
                                    "2": "4.44",
                                    "3": "11643"
                                },
                                {
                                    "0": "Lois McMaster Bujold",
                                    "1": "A Civil Campaign (Vorkosigan Saga, #12)",
                                    "2": "4.43",
                                    "3": "11643"
                                },
                                {
                                    "0": "Yaa Gyasi",
                                    "1": "Homegoing",
                                    "2": "4.41",
                                    "3": "11643"
                                }
                            ]
                        },
                        "text/html": [
                            "<table>",
                            "<tr><th>authors</th><th>title</th><th>average_rating</th><th>tag_id</th></tr>",
                            "<tr><td>J.K. Rowling, Mary GrandPré</td><td>The Harry Potter Collection 1-4 (Harry Potter, #1-4)</td><td>4.66</td><td>11643</td></tr>",
                            "<tr><td>Bisco Hatori</td><td>Ouran High School Host Club, Vol. 15 (Ouran High School Host Club, #15)</td><td>4.54</td><td>11643</td></tr>",
                            "<tr><td>Robin Hobb</td><td>Fool's Quest  (The Fitz and The Fool, #2)</td><td>4.53</td><td>11643</td></tr>",
                            "<tr><td>Michelle Alexander</td><td>The New Jim Crow: Mass Incarceration in the Age of Colorblindness</td><td>4.49</td><td>11643</td></tr>",
                            "<tr><td>Chimamanda Ngozi Adichie</td><td>We Should All Be Feminists</td><td>4.47</td><td>11643</td></tr>",
                            "<tr><td>Julia Donaldson, Axel Scheffler</td><td>The Gruffalo</td><td>4.47</td><td>11643</td></tr>",
                            "<tr><td>J.K. Rowling, Mary GrandPré</td><td>Harry Potter and the Order of the Phoenix (Harry Potter, #5)</td><td>4.46</td><td>11643</td></tr>",
                            "<tr><td>Flannery O'Connor</td><td>The Complete Stories</td><td>4.44</td><td>11643</td></tr>",
                            "<tr><td>Lois McMaster Bujold</td><td>A Civil Campaign (Vorkosigan Saga, #12)</td><td>4.43</td><td>11643</td></tr>",
                            "<tr><td>Yaa Gyasi</td><td>Homegoing</td><td>4.41</td><td>11643</td></tr>",
                            "</table>"
                        ]
                    }
                }
            ],
            "execution_count": 19
        },
        {
            "cell_type": "markdown",
            "source": [
                "### **Record your thoughts about why you wrote the query the way you did**"
            ],
            "metadata": {
                "azdata_cell_guid": "1e19a72c-1bca-446b-a0c7-a8efbc35dcf1"
            },
            "attachments": {}
        },
        {
            "cell_type": "markdown",
            "source": [
                "# Part 2: Choose Another Month\n",
                "\n",
                "Choose another month and plan at least 2 events / promotions and answer the following questions.\n",
                "\n",
                "Which month did you choose?  \n",
                "\n",
                "What 2 events / promotions are you highlighting?\n",
                "\n",
                "> 1. May\n",
                "\n",
                "> 2. Memorial Day and Mother's Day"
            ],
            "metadata": {
                "azdata_cell_guid": "3eaf376d-9de3-4553-a9d0-9caf74ee3d6a"
            },
            "attachments": {}
        },
        {
            "cell_type": "markdown",
            "source": [
                "# Part 3: Summarize your Work\n",
                "\n",
                "For each event write at least one query that joins any two tables in the BooksDB to support your choice and record you thoughts as to why you used the paticlular query. At least one of your queries needs to include a HAVING clause."
            ],
            "metadata": {
                "azdata_cell_guid": "1ba1363a-4f02-4962-a95a-93b80c5926b1"
            },
            "attachments": {}
        },
        {
            "cell_type": "code",
            "source": [
                "SELECT TOP 5 t.tag_name, bt.tag_id, SUM(bt.count) AS total\n",
                "FROM BooksDB.dbo.book_tags AS bt\n",
                "FULL JOIN BooksDB.dbo.tags AS t\n",
                "ON bt.tag_id = t.tag_id\n",
                "GROUP BY t.tag_name, bt.tag_id\n",
                "HAVING t.tag_name LIKE '%veteran%'\n",
                "ORDER BY total DESC"
            ],
            "metadata": {
                "azdata_cell_guid": "5606f7f2-c46b-42d3-ac64-7ae21c3394f8",
                "language": "sql"
            },
            "outputs": [
                {
                    "output_type": "display_data",
                    "data": {
                        "text/html": "(3 rows affected)"
                    },
                    "metadata": {}
                },
                {
                    "output_type": "display_data",
                    "data": {
                        "text/html": "Total execution time: 00:00:00.717"
                    },
                    "metadata": {}
                },
                {
                    "output_type": "execute_result",
                    "metadata": {},
                    "execution_count": 22,
                    "data": {
                        "application/vnd.dataresource+json": {
                            "schema": {
                                "fields": [
                                    {
                                        "name": "tag_name"
                                    },
                                    {
                                        "name": "tag_id"
                                    },
                                    {
                                        "name": "total"
                                    }
                                ]
                            },
                            "data": [
                                {
                                    "0": "veterans",
                                    "1": "31836",
                                    "2": "86"
                                },
                                {
                                    "0": "afghanistan-veteran",
                                    "1": "1744",
                                    "2": "11"
                                },
                                {
                                    "0": "veteran",
                                    "1": "31835",
                                    "2": "2"
                                }
                            ]
                        },
                        "text/html": [
                            "<table>",
                            "<tr><th>tag_name</th><th>tag_id</th><th>total</th></tr>",
                            "<tr><td>veterans</td><td>31836</td><td>86</td></tr>",
                            "<tr><td>afghanistan-veteran</td><td>1744</td><td>11</td></tr>",
                            "<tr><td>veteran</td><td>31835</td><td>2</td></tr>",
                            "</table>"
                        ]
                    }
                }
            ],
            "execution_count": 22
        },
        {
            "cell_type": "markdown",
            "source": [
                "### **Summary of event 1:** Checked out tags that have the word veteran in them in honor of Memorial Day."
            ],
            "metadata": {
                "azdata_cell_guid": "3bc72d4c-077b-42d3-9528-9aff8e7b6cf3"
            },
            "attachments": {}
        },
        {
            "cell_type": "code",
            "source": [
                "SELECT b.title, COUNT(tr.user_id) AS 'Number of To-Read Lists'\n",
                "FROM BooksDB.dbo.books AS b\n",
                "JOIN BooksDB.dbo.to_read AS tr\n",
                "ON b.book_id = tr.book_id\n",
                "WHERE b.title LIKE '%mother%'\n",
                "GROUP BY b.title\n",
                "ORDER BY COUNT(tr.user_id) DESC"
            ],
            "metadata": {
                "azdata_cell_guid": "dca0a98f-065f-4b0e-9d93-fcb01cad668c",
                "language": "sql"
            },
            "outputs": [
                {
                    "output_type": "display_data",
                    "data": {
                        "text/html": "(3 rows affected)"
                    },
                    "metadata": {}
                },
                {
                    "output_type": "display_data",
                    "data": {
                        "text/html": "Total execution time: 00:00:00.174"
                    },
                    "metadata": {}
                },
                {
                    "output_type": "execute_result",
                    "metadata": {},
                    "execution_count": 27,
                    "data": {
                        "application/vnd.dataresource+json": {
                            "schema": {
                                "fields": [
                                    {
                                        "name": "title"
                                    },
                                    {
                                        "name": "Number of To-Read Lists"
                                    }
                                ]
                            },
                            "data": [
                                {
                                    "0": "The Mother Tongue: English and How It Got That Way",
                                    "1": "348"
                                },
                                {
                                    "0": "Mother Night",
                                    "1": "23"
                                },
                                {
                                    "0": "Mother of Pearl",
                                    "1": "18"
                                }
                            ]
                        },
                        "text/html": [
                            "<table>",
                            "<tr><th>title</th><th>Number of To-Read Lists</th></tr>",
                            "<tr><td>The Mother Tongue: English and How It Got That Way</td><td>348</td></tr>",
                            "<tr><td>Mother Night</td><td>23</td></tr>",
                            "<tr><td>Mother of Pearl</td><td>18</td></tr>",
                            "</table>"
                        ]
                    }
                }
            ],
            "execution_count": 27
        },
        {
            "cell_type": "markdown",
            "source": [
                "### **Summary of event 2:** Shows titles containing mother and how many to-read lists the book is on."
            ],
            "metadata": {
                "azdata_cell_guid": "99d518dc-cd8b-42d6-9a9d-708771c9aa99"
            },
            "attachments": {}
        }
    ]
}